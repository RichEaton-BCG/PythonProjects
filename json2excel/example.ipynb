{
 "cells": [
  {
   "cell_type": "code",
   "execution_count": 1,
   "source": [
    "import pandas as pd\r\n",
    "import json\r\n",
    "import PySimpleGUI as sg\r\n"
   ],
   "outputs": [],
   "metadata": {}
  },
  {
   "cell_type": "code",
   "execution_count": 2,
   "source": [
    "infile = sg.popup_get_file('Please enter a file name', title=\"JSON 2 Excel Utility\",\r\n",
    "                           button_color=\"grey\", background_color=\"blue\")\r\n",
    "df = pd.DataFrame\r\n",
    "df = pd.read_json(infile)\r\n"
   ],
   "outputs": [],
   "metadata": {}
  },
  {
   "cell_type": "code",
   "execution_count": 3,
   "source": [
    "df.head()   "
   ],
   "outputs": [
    {
     "output_type": "execute_result",
     "data": {
      "text/html": [
       "<div>\n",
       "<style scoped>\n",
       "    .dataframe tbody tr th:only-of-type {\n",
       "        vertical-align: middle;\n",
       "    }\n",
       "\n",
       "    .dataframe tbody tr th {\n",
       "        vertical-align: top;\n",
       "    }\n",
       "\n",
       "    .dataframe thead th {\n",
       "        text-align: right;\n",
       "    }\n",
       "</style>\n",
       "<table border=\"1\" class=\"dataframe\">\n",
       "  <thead>\n",
       "    <tr style=\"text-align: right;\">\n",
       "      <th></th>\n",
       "      <th>typeId</th>\n",
       "      <th>modifiedDate</th>\n",
       "      <th>createdDate</th>\n",
       "      <th>userId</th>\n",
       "      <th>active</th>\n",
       "      <th>content</th>\n",
       "    </tr>\n",
       "  </thead>\n",
       "  <tbody>\n",
       "    <tr>\n",
       "      <th>0</th>\n",
       "      <td>custom</td>\n",
       "      <td>2020-11-07T02:33:40.117+0000</td>\n",
       "      <td>2020-11-07T02:33:40.117+0000</td>\n",
       "      <td>4J5144123</td>\n",
       "      <td>True</td>\n",
       "      <td>{'inCountryManager': {'profile': {'uid': '1J67...</td>\n",
       "    </tr>\n",
       "    <tr>\n",
       "      <th>1</th>\n",
       "      <td>custom</td>\n",
       "      <td>2020-11-07T02:30:43.800+0000</td>\n",
       "      <td>2020-11-07T02:30:43.800+0000</td>\n",
       "      <td>2J3965897</td>\n",
       "      <td>True</td>\n",
       "      <td>{'inCountryManager': {'profile': {'uid': '1J67...</td>\n",
       "    </tr>\n",
       "    <tr>\n",
       "      <th>2</th>\n",
       "      <td>custom</td>\n",
       "      <td>2020-11-07T02:28:58.940+0000</td>\n",
       "      <td>2020-11-07T02:28:58.940+0000</td>\n",
       "      <td>1J6791897</td>\n",
       "      <td>True</td>\n",
       "      <td>{'inCountryManager': {'profile': {'uid': '7912...</td>\n",
       "    </tr>\n",
       "  </tbody>\n",
       "</table>\n",
       "</div>"
      ],
      "text/plain": [
       "   typeId                  modifiedDate                   createdDate  \\\n",
       "0  custom  2020-11-07T02:33:40.117+0000  2020-11-07T02:33:40.117+0000   \n",
       "1  custom  2020-11-07T02:30:43.800+0000  2020-11-07T02:30:43.800+0000   \n",
       "2  custom  2020-11-07T02:28:58.940+0000  2020-11-07T02:28:58.940+0000   \n",
       "\n",
       "      userId  active                                            content  \n",
       "0  4J5144123    True  {'inCountryManager': {'profile': {'uid': '1J67...  \n",
       "1  2J3965897    True  {'inCountryManager': {'profile': {'uid': '1J67...  \n",
       "2  1J6791897    True  {'inCountryManager': {'profile': {'uid': '7912...  "
      ]
     },
     "metadata": {},
     "execution_count": 3
    }
   ],
   "metadata": {}
  },
  {
   "cell_type": "code",
   "execution_count": 4,
   "source": [
    "df.info()\r\n"
   ],
   "outputs": [
    {
     "output_type": "stream",
     "name": "stdout",
     "text": [
      "<class 'pandas.core.frame.DataFrame'>\n",
      "RangeIndex: 3 entries, 0 to 2\n",
      "Data columns (total 6 columns):\n",
      " #   Column        Non-Null Count  Dtype \n",
      "---  ------        --------------  ----- \n",
      " 0   typeId        3 non-null      object\n",
      " 1   modifiedDate  3 non-null      object\n",
      " 2   createdDate   3 non-null      object\n",
      " 3   userId        3 non-null      object\n",
      " 4   active        3 non-null      bool  \n",
      " 5   content       3 non-null      object\n",
      "dtypes: bool(1), object(5)\n",
      "memory usage: 251.0+ bytes\n"
     ]
    }
   ],
   "metadata": {}
  },
  {
   "cell_type": "code",
   "execution_count": 10,
   "source": [
    "df.to_excel('data_out/converted1.xls')\r\n",
    "dft = df.transpose()\r\n",
    "dft.head()\r\n"
   ],
   "outputs": [
    {
     "output_type": "stream",
     "name": "stderr",
     "text": [
      "C:\\Users\\riche\\AppData\\Local\\Temp/ipykernel_38316/2193460050.py:1: FutureWarning: As the xlwt package is no longer maintained, the xlwt engine will be removed in a future version of pandas. This is the only engine in pandas that supports writing in the xls format. Install openpyxl and write to an xlsx file instead. You can set the option io.excel.xls.writer to 'xlwt' to silence this warning. While this option is deprecated and will also raise a warning, it can be globally set and the warning suppressed.\n",
      "  df.to_excel('data_out/converted1.xls')\n"
     ]
    },
    {
     "output_type": "execute_result",
     "data": {
      "text/html": [
       "<div>\n",
       "<style scoped>\n",
       "    .dataframe tbody tr th:only-of-type {\n",
       "        vertical-align: middle;\n",
       "    }\n",
       "\n",
       "    .dataframe tbody tr th {\n",
       "        vertical-align: top;\n",
       "    }\n",
       "\n",
       "    .dataframe thead th {\n",
       "        text-align: right;\n",
       "    }\n",
       "</style>\n",
       "<table border=\"1\" class=\"dataframe\">\n",
       "  <thead>\n",
       "    <tr style=\"text-align: right;\">\n",
       "      <th></th>\n",
       "      <th>0</th>\n",
       "      <th>1</th>\n",
       "      <th>2</th>\n",
       "    </tr>\n",
       "  </thead>\n",
       "  <tbody>\n",
       "    <tr>\n",
       "      <th>typeId</th>\n",
       "      <td>custom</td>\n",
       "      <td>custom</td>\n",
       "      <td>custom</td>\n",
       "    </tr>\n",
       "    <tr>\n",
       "      <th>modifiedDate</th>\n",
       "      <td>2020-11-07T02:33:40.117+0000</td>\n",
       "      <td>2020-11-07T02:30:43.800+0000</td>\n",
       "      <td>2020-11-07T02:28:58.940+0000</td>\n",
       "    </tr>\n",
       "    <tr>\n",
       "      <th>createdDate</th>\n",
       "      <td>2020-11-07T02:33:40.117+0000</td>\n",
       "      <td>2020-11-07T02:30:43.800+0000</td>\n",
       "      <td>2020-11-07T02:28:58.940+0000</td>\n",
       "    </tr>\n",
       "    <tr>\n",
       "      <th>userId</th>\n",
       "      <td>4J5144123</td>\n",
       "      <td>2J3965897</td>\n",
       "      <td>1J6791897</td>\n",
       "    </tr>\n",
       "    <tr>\n",
       "      <th>active</th>\n",
       "      <td>True</td>\n",
       "      <td>True</td>\n",
       "      <td>True</td>\n",
       "    </tr>\n",
       "  </tbody>\n",
       "</table>\n",
       "</div>"
      ],
      "text/plain": [
       "                                         0                             1  \\\n",
       "typeId                              custom                        custom   \n",
       "modifiedDate  2020-11-07T02:33:40.117+0000  2020-11-07T02:30:43.800+0000   \n",
       "createdDate   2020-11-07T02:33:40.117+0000  2020-11-07T02:30:43.800+0000   \n",
       "userId                           4J5144123                     2J3965897   \n",
       "active                                True                          True   \n",
       "\n",
       "                                         2  \n",
       "typeId                              custom  \n",
       "modifiedDate  2020-11-07T02:28:58.940+0000  \n",
       "createdDate   2020-11-07T02:28:58.940+0000  \n",
       "userId                           1J6791897  \n",
       "active                                True  "
      ]
     },
     "metadata": {},
     "execution_count": 10
    }
   ],
   "metadata": {}
  }
 ],
 "metadata": {
  "orig_nbformat": 4,
  "language_info": {
   "name": "python",
   "version": "3.9.6",
   "mimetype": "text/x-python",
   "codemirror_mode": {
    "name": "ipython",
    "version": 3
   },
   "pygments_lexer": "ipython3",
   "nbconvert_exporter": "python",
   "file_extension": ".py"
  },
  "kernelspec": {
   "name": "python3",
   "display_name": "Python 3.9.6 64-bit"
  },
  "interpreter": {
   "hash": "0d008810b9c8467bcb3ca39aa2180e5b81b3a9acb136aab30d47954377cc5120"
  }
 },
 "nbformat": 4,
 "nbformat_minor": 2
}